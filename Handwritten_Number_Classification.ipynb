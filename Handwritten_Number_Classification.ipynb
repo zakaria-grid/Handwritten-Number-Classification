{
  "nbformat": 4,
  "nbformat_minor": 0,
  "metadata": {
    "colab": {
      "name": "Handwritten Number Classification.ipynb",
      "provenance": [],
      "collapsed_sections": [],
      "authorship_tag": "ABX9TyM0TjOF4313WWLK9iSVtjdL",
      "include_colab_link": true
    },
    "kernelspec": {
      "display_name": "Python 3",
      "name": "python3"
    },
    "language_info": {
      "name": "python"
    }
  },
  "cells": [
    {
      "cell_type": "markdown",
      "metadata": {
        "id": "view-in-github",
        "colab_type": "text"
      },
      "source": [
        "<a href=\"https://colab.research.google.com/github/zakaria-grid/RFR/blob/master/Handwritten_Number_Classification.ipynb\" target=\"_parent\"><img src=\"https://colab.research.google.com/assets/colab-badge.svg\" alt=\"Open In Colab\"/></a>"
      ]
    },
    {
      "cell_type": "code",
      "metadata": {
        "id": "t2IvJKrE6uhB"
      },
      "source": [
        "#Import libraries\n",
        "\n",
        "from google.colab import drive\n",
        "import pandas as pd\n",
        "import matplotlib.pyplot as plt\n",
        "import seaborn as sns\n",
        "import os\n",
        "import cv2\n",
        "import random\n",
        "import pickle\n",
        "import numpy as np\n",
        "import joblib \n",
        "from sklearn.model_selection import train_test_split\n",
        "from sklearn.metrics import *\n",
        "from sklearn.model_selection import GridSearchCV \n",
        "from sklearn.neighbors import KNeighborsClassifier \n",
        "from sklearn.ensemble import RandomForestClassifier\n",
        "from sklearn import svm"
      ],
      "execution_count": 36,
      "outputs": []
    },
    {
      "cell_type": "code",
      "metadata": {
        "colab": {
          "base_uri": "https://localhost:8080/"
        },
        "id": "M1BouXsEwhg3",
        "outputId": "1a4709ae-a387-472f-acce-09040f00f982"
      },
      "source": [
        "#Mount drive and read data\n",
        "drive.mount('/content/gdrive')\n",
        "%cd '/content/gdrive/My Drive/Handwritten_dataset'"
      ],
      "execution_count": 4,
      "outputs": [
        {
          "output_type": "stream",
          "name": "stdout",
          "text": [
            "Mounted at /content/gdrive\n",
            "/content/gdrive/My Drive/Handwritten_dataset\n"
          ]
        }
      ]
    },
    {
      "cell_type": "markdown",
      "metadata": {
        "id": "NzpZCI7x8MpT"
      },
      "source": [
        "#Data preprocessing: Cleaning, missing data, redundant data"
      ]
    },
    {
      "cell_type": "code",
      "metadata": {
        "id": "26uoICZH3b6v"
      },
      "source": [
        "# reading labels file\n",
        "labels = pd.read_csv(\"images_labels.csv\")\n",
        "\n",
        "# converting column data to list\n",
        "image_name = labels['image_name'].tolist()\n",
        "labels = labels['output'].tolist()\n",
        "\n",
        "#set a dataset dicrectory path\n",
        "Dataset_directory='/content/gdrive/My Drive/Handwritten_dataset/images/'\n",
        "\n",
        "# define the absolute path for all images\n",
        "image_path= [Dataset_directory + s for s in image_name]\n",
        "\n",
        "# X is the input (feautres) and Y is the output (labels) \n",
        "X=[]\n",
        "Y=labels\n",
        "for img in image_path:  # iterate over each image\n",
        "     try: #catching potential errors realted to images\n",
        "        img_array = cv2.imread(img ,cv2.IMREAD_GRAYSCALE)  # convert image to array\n",
        "        X.append(img_array)\n",
        "     except Exception as e:\n",
        "        print(\"Error loading image\", e, img)"
      ],
      "execution_count": 8,
      "outputs": []
    },
    {
      "cell_type": "markdown",
      "metadata": {
        "id": "E2HSneXtw6pU"
      },
      "source": [
        "**Save the preprocessed data for later usage**\n",
        "\n",
        "\n",
        "\n"
      ]
    },
    {
      "cell_type": "code",
      "metadata": {
        "id": "D8ymumsiw969"
      },
      "source": [
        "#save X and Y\n",
        "pickle_out = open(\"X.pickle\",\"wb\")\n",
        "pickle.dump(X, pickle_out)\n",
        "pickle_out.close()\n",
        "\n",
        "pickle_out = open(\"y.pickle\",\"wb\")\n",
        "pickle.dump(Y, pickle_out)\n",
        "pickle_out.close()\n",
        "\n",
        "#Load X and Y :\n",
        "#pickle_in = open(\"X.pickle\",\"rb\")\n",
        "#X = pickle.load(pickle_in)\n",
        "#pickle_in = open(\"y.pickle\",\"rb\")\n",
        "#y = pickle.load(pickle_in)"
      ],
      "execution_count": 9,
      "outputs": []
    },
    {
      "cell_type": "markdown",
      "metadata": {
        "id": "lwdqM1dC7S_t"
      },
      "source": [
        "**Check the data distribution/Bias**\n",
        "\n"
      ]
    },
    {
      "cell_type": "code",
      "metadata": {
        "colab": {
          "base_uri": "https://localhost:8080/",
          "height": 336
        },
        "id": "T1ZvSeYN6S-O",
        "outputId": "2aca61f2-aa79-4ba5-c957-16b7e202c83a"
      },
      "source": [
        "sns.countplot(labels)"
      ],
      "execution_count": 11,
      "outputs": [
        {
          "output_type": "stream",
          "name": "stderr",
          "text": [
            "/usr/local/lib/python3.7/dist-packages/seaborn/_decorators.py:43: FutureWarning: Pass the following variable as a keyword arg: x. From version 0.12, the only valid positional argument will be `data`, and passing other arguments without an explicit keyword will result in an error or misinterpretation.\n",
            "  FutureWarning\n"
          ]
        },
        {
          "output_type": "execute_result",
          "data": {
            "text/plain": [
              "<matplotlib.axes._subplots.AxesSubplot at 0x7f8492e28bd0>"
            ]
          },
          "metadata": {},
          "execution_count": 11
        },
        {
          "output_type": "display_data",
          "data": {
            "image/png": "[encoded data removed]",
            "text/plain": [
              "<Figure size 432x288 with 1 Axes>"
            ]
          },
          "metadata": {
            "needs_background": "light"
          }
        }
      ]
    },
    {
      "cell_type": "markdown",
      "metadata": {
        "id": "ICV5ef7aonD6"
      },
      "source": [
        "**Spliting dataset into training (70%) and testing sets (30%)**"
      ]
    },
    {
      "cell_type": "code",
      "metadata": {
        "id": "109C1InRomRa"
      },
      "source": [
        "X=np.array(X).reshape((10000,28*28)) # Reshape X before training the model\n",
        "X_train, X_test, y_train, y_test = train_test_split(X,Y,test_size=0.2, random_state=30)"
      ],
      "execution_count": 15,
      "outputs": []
    },
    {
      "cell_type": "markdown",
      "metadata": {
        "id": "C-98TSiapO04"
      },
      "source": [
        "#Training/testing ML models"
      ]
    },
    {
      "cell_type": "markdown",
      "metadata": {
        "id": "tX2zUDhypRsv"
      },
      "source": [
        "### **1) k-nearest neighbors (KNN) Model**"
      ]
    },
    {
      "cell_type": "markdown",
      "metadata": {
        "id": "wqjrm2YMqa-l"
      },
      "source": [
        "**a) Hypertuning & Training**"
      ]
    },
    {
      "cell_type": "code",
      "metadata": {
        "colab": {
          "base_uri": "https://localhost:8080/"
        },
        "id": "9qKo1XZspVPO",
        "outputId": "669b2296-2cb5-471a-db36-1c84de5cef08"
      },
      "source": [
        "# select various prameter values\n",
        "knn_param={\n",
        "    'n_neighbors':[1,5,10,50,100],\n",
        "    'weights':['uniform','distance']\n",
        "}\n",
        "\n",
        "# find out the optimal parameters\n",
        "knn=GridSearchCV(KNeighborsClassifier(),knn_param,verbose=1,cv=5,n_jobs=-1, scoring='neg_mean_squared_error')\n",
        "\n",
        "# train the model\n",
        "knn_results=knn.fit(X_train,y_train)\n"
      ],
      "execution_count": 16,
      "outputs": [
        {
          "output_type": "stream",
          "name": "stdout",
          "text": [
            "Fitting 5 folds for each of 10 candidates, totalling 50 fits\n"
          ]
        },
        {
          "output_type": "stream",
          "name": "stderr",
          "text": [
            "[Parallel(n_jobs=-1)]: Using backend LokyBackend with 2 concurrent workers.\n",
            "[Parallel(n_jobs=-1)]: Done  46 tasks      | elapsed:  9.0min\n",
            "[Parallel(n_jobs=-1)]: Done  50 out of  50 | elapsed:  9.8min finished\n"
          ]
        }
      ]
    },
    {
      "cell_type": "code",
      "metadata": {
        "id": "gsD9MsAl6BEK"
      },
      "source": [
        "X_test=X_test.reshape((2000,28*28))"
      ],
      "execution_count": null,
      "outputs": []
    },
    {
      "cell_type": "markdown",
      "metadata": {
        "id": "aGeBPeOArPR-"
      },
      "source": [
        "**b) Testing and evaluating KNN performance** "
      ]
    },
    {
      "cell_type": "code",
      "metadata": {
        "id": "gV9xb_tnqOWT"
      },
      "source": [
        "# Test the model using metrics\n",
        "knn_predictions = knn.predict(X_test) \n",
        "mse_knn=mean_squared_error(y_test,knn_predictions)\n",
        "accuracy_knn=accuracy_score(y_test, knn_predictions)\n",
        "confusion_matrix_knn=confusion_matrix(y_test, knn_predictions)\n",
        "kappa_knn=cohen_kappa_score(y_test, knn_predictions)\n",
        "\n"
      ],
      "execution_count": 17,
      "outputs": []
    },
    {
      "cell_type": "code",
      "metadata": {
        "colab": {
          "base_uri": "https://localhost:8080/"
        },
        "id": "08IsES0n7gM8",
        "outputId": "9a5aa334-7b07-4dbe-ddc0-402b3243c38c"
      },
      "source": [
        "# print out resutls\n",
        "print(\"\\nKNN model performances:\")\n",
        "print(\"Accuracy \" \"% s\" %  \"{:.2f}\".format(accuracy_knn*100) +\"%\")\n",
        "print(\"Mean Squared Error (MSE) \"  \"% s\" %  (mse_knn)) \n",
        "print(\"Kappa \" \"% s\" % \"{:.2f}\".format(kappa_knn*100)+\"%\")\n",
        "print(\"Confusion Matrix\")\n",
        "print(confusion_matrix_knn)"
      ],
      "execution_count": 18,
      "outputs": [
        {
          "output_type": "stream",
          "name": "stdout",
          "text": [
            "\n",
            "KNN model performances:\n",
            "Accuracy 93.60%\n",
            "Mean Squared Error (MSE) 1.152\n",
            "Kappa 92.88%\n",
            "Confusion Matrix\n",
            "[[203   1   1   0   0   4   1   0   1   0]\n",
            " [  0 225   0   0   0   0   0   0   0   0]\n",
            " [  0   6 162   3   2   1   2   9   3   0]\n",
            " [  0   3   1 185   0   6   0   1   2   1]\n",
            " [  0   1   1   0 159   0   0   0   1   8]\n",
            " [  2   0   0   4   0 164   3   0   1   1]\n",
            " [  0   2   0   0   0   0 190   1   0   0]\n",
            " [  0   7   0   0   0   0   0 191   0   5]\n",
            " [  1   4   3   7   0   7   0   2 187   3]\n",
            " [  0   1   0   1   7   1   0   5   1 206]]\n"
          ]
        }
      ]
    },
    {
      "cell_type": "markdown",
      "metadata": {
        "id": "1UqkzonbA0I3"
      },
      "source": [
        "**c) Test the trained KNN model on few images**\n"
      ]
    },
    {
      "cell_type": "code",
      "metadata": {
        "colab": {
          "base_uri": "https://localhost:8080/"
        },
        "id": "tQeNkUTkA-fP",
        "outputId": "3e7ba9c8-3367-4c9a-848f-96f6629d5c92"
      },
      "source": [
        "for i in range(808,816):\n",
        "  input_image_test=X_test[i].reshape(1,28*28)\n",
        "  knn.predict(input_image_test)\n",
        "  print(\"Predicted value: \"  \"% s\" % knn.predict(input_image_test))\n",
        "  print(\"Actual value \"  \"% s\" % y_test[i])\n"
      ],
      "execution_count": 19,
      "outputs": [
        {
          "output_type": "stream",
          "name": "stdout",
          "text": [
            "Predicted value: [3]\n",
            "Actual value 3\n",
            "Predicted value: [9]\n",
            "Actual value 9\n",
            "Predicted value: [3]\n",
            "Actual value 3\n",
            "Predicted value: [9]\n",
            "Actual value 9\n",
            "Predicted value: [3]\n",
            "Actual value 3\n",
            "Predicted value: [2]\n",
            "Actual value 2\n",
            "Predicted value: [3]\n",
            "Actual value 3\n",
            "Predicted value: [9]\n",
            "Actual value 9\n"
          ]
        }
      ]
    },
    {
      "cell_type": "markdown",
      "metadata": {
        "id": "ZUDbRmwD82Vk"
      },
      "source": [
        "**d) Save the trained model**"
      ]
    },
    {
      "cell_type": "code",
      "metadata": {
        "colab": {
          "base_uri": "https://localhost:8080/"
        },
        "id": "iOViTMmb86lr",
        "outputId": "309f53d5-f3c9-4a94-c15e-35eec8f94758"
      },
      "source": [
        "#Save the model on the drive to use it later\n",
        "\n",
        "knn_model = 'knn_model.sav'\n",
        "joblib.dump(knn_model, knn_model)"
      ],
      "execution_count": 22,
      "outputs": [
        {
          "output_type": "execute_result",
          "data": {
            "text/plain": [
              "['knn_model.sav']"
            ]
          },
          "metadata": {},
          "execution_count": 22
        }
      ]
    },
    {
      "cell_type": "markdown",
      "metadata": {
        "id": "6FL2cFwuTW8V"
      },
      "source": [
        "### **2) Random Forest (RF)**\n"
      ]
    },
    {
      "cell_type": "markdown",
      "metadata": {
        "id": "XerBuuJOrGoW"
      },
      "source": [
        "**a) Hypertuning & Training**"
      ]
    },
    {
      "cell_type": "code",
      "metadata": {
        "id": "HIW71CQoTVu-",
        "colab": {
          "base_uri": "https://localhost:8080/"
        },
        "outputId": "2b5ebe98-da62-44e1-e926-e0803ec46867"
      },
      "source": [
        "#select various prameter values\n",
        "rf_param = { \n",
        "    'n_estimators': [100, 1000, 10000],\n",
        "    'max_features': ['None', 'sqrt', 'log2'],\n",
        "    'max_depth' : [4,6]\n",
        "}\n",
        "\n",
        "# find out the optimal parameters\n",
        "rf=GridSearchCV(RandomForestClassifier(),rf_param,verbose=1,cv=5,n_jobs=-1)\n",
        "\n",
        "# train the model\n",
        "rf.fit(X_train,y_train)"
      ],
      "execution_count": 21,
      "outputs": [
        {
          "output_type": "stream",
          "name": "stdout",
          "text": [
            "Fitting 5 folds for each of 18 candidates, totalling 90 fits\n"
          ]
        },
        {
          "output_type": "stream",
          "name": "stderr",
          "text": [
            "[Parallel(n_jobs=-1)]: Using backend LokyBackend with 2 concurrent workers.\n",
            "[Parallel(n_jobs=-1)]: Done  54 tasks      | elapsed: 10.7min\n",
            "[Parallel(n_jobs=-1)]: Done  90 out of  90 | elapsed: 23.8min finished\n"
          ]
        },
        {
          "output_type": "execute_result",
          "data": {
            "text/plain": [
              "GridSearchCV(cv=5, error_score=nan,\n",
              "             estimator=RandomForestClassifier(bootstrap=True, ccp_alpha=0.0,\n",
              "                                              class_weight=None,\n",
              "                                              criterion='gini', max_depth=None,\n",
              "                                              max_features='auto',\n",
              "                                              max_leaf_nodes=None,\n",
              "                                              max_samples=None,\n",
              "                                              min_impurity_decrease=0.0,\n",
              "                                              min_impurity_split=None,\n",
              "                                              min_samples_leaf=1,\n",
              "                                              min_samples_split=2,\n",
              "                                              min_weight_fraction_leaf=0.0,\n",
              "                                              n_estimators=100, n_jobs=None,\n",
              "                                              oob_score=False,\n",
              "                                              random_state=None, verbose=0,\n",
              "                                              warm_start=False),\n",
              "             iid='deprecated', n_jobs=-1,\n",
              "             param_grid={'max_depth': [4, 6],\n",
              "                         'max_features': ['None', 'sqrt', 'log2'],\n",
              "                         'n_estimators': [100, 1000, 10000]},\n",
              "             pre_dispatch='2*n_jobs', refit=True, return_train_score=False,\n",
              "             scoring=None, verbose=1)"
            ]
          },
          "metadata": {},
          "execution_count": 21
        }
      ]
    },
    {
      "cell_type": "markdown",
      "metadata": {
        "id": "1O6pGdhosR3A"
      },
      "source": [
        "**b) Testing and evaluating RF performance**"
      ]
    },
    {
      "cell_type": "code",
      "metadata": {
        "id": "JzT8CJWbT4WH"
      },
      "source": [
        "# test the model using metrics\n",
        "\n",
        "rf_predictions = rf.predict(X_test) \n",
        "mse_rf=mean_squared_error(y_test,rf_predictions)\n",
        "accuracy_rf=accuracy_score(y_test, rf_predictions)\n",
        "confusion_matrix_rf=confusion_matrix(y_test, rf_predictions)\n",
        "kappa_rf=cohen_kappa_score(y_test, rf_predictions)"
      ],
      "execution_count": 23,
      "outputs": []
    },
    {
      "cell_type": "code",
      "metadata": {
        "colab": {
          "base_uri": "https://localhost:8080/"
        },
        "id": "-1aUiObia59H",
        "outputId": "c26d4dfb-8d8c-4bd6-b874-aaead869dc67"
      },
      "source": [
        "#print out results\n",
        "\n",
        "print(\"\\nRF model performances:\")\n",
        "print(\"Accuracy \" \"% s\" %  \"{:.2f}\".format(accuracy_rf*100) +\"%\")\n",
        "print(\"Mean Squared Error (MSE) \"  \"% s\" %  (mse_rf)) \n",
        "print(\"Kappa \" \"% s\" % \"{:.2f}\".format(kappa_rf*100)+\"%\")\n",
        "print(\"Confusion Matrix\")\n",
        "print(confusion_matrix_rf)"
      ],
      "execution_count": 24,
      "outputs": [
        {
          "output_type": "stream",
          "name": "stdout",
          "text": [
            "\n",
            "RF model performances:\n",
            "Accuracy 87.00%\n",
            "Mean Squared Error (MSE) 2.3875\n",
            "Kappa 85.54%\n",
            "Confusion Matrix\n",
            "[[205   2   0   1   0   1   0   1   1   0]\n",
            " [  0 223   0   0   0   0   0   1   1   0]\n",
            " [  3   4 156   5   4   0   3  11   2   0]\n",
            " [  1   4   2 179   0   5   0   3   2   3]\n",
            " [  1   3   1   0 152   0   5   1   0   7]\n",
            " [  7   6   1  29   5 120   1   1   3   2]\n",
            " [  6   2   1   1   1   4 173   4   1   0]\n",
            " [  2   8   5   3   1   0   0 180   1   3]\n",
            " [  2  17   4   9   5   3   1   2 168   3]\n",
            " [  0   5   1   2  10   3   1  14   2 184]]\n"
          ]
        }
      ]
    },
    {
      "cell_type": "markdown",
      "metadata": {
        "id": "nxt3yPJ1bPDS"
      },
      "source": [
        "**c) Test the trained RF model om few samples**\n"
      ]
    },
    {
      "cell_type": "code",
      "metadata": {
        "colab": {
          "base_uri": "https://localhost:8080/"
        },
        "id": "aXUOOQaAbRbh",
        "outputId": "983e5253-6bba-4736-84dc-4b1bb21eda27"
      },
      "source": [
        "for i in range(68,75):\n",
        "  input_image_test=X_test[i].reshape(1,28*28)\n",
        "  knn.predict(input_image_test)\n",
        "  print(\"Predicted value: \"  \"% s\" % rf.predict(input_image_test))\n",
        "  print(\"Actual value \"  \"% s\" % y_test[i])"
      ],
      "execution_count": 25,
      "outputs": [
        {
          "output_type": "stream",
          "name": "stdout",
          "text": [
            "Predicted value: [8]\n",
            "Actual value 8\n",
            "Predicted value: [5]\n",
            "Actual value 5\n",
            "Predicted value: [9]\n",
            "Actual value 9\n",
            "Predicted value: [6]\n",
            "Actual value 6\n",
            "Predicted value: [0]\n",
            "Actual value 0\n",
            "Predicted value: [1]\n",
            "Actual value 1\n",
            "Predicted value: [6]\n",
            "Actual value 6\n"
          ]
        }
      ]
    },
    {
      "cell_type": "markdown",
      "metadata": {
        "id": "SolP9-NJ-J5B"
      },
      "source": [
        "**d) Save the trained model**"
      ]
    },
    {
      "cell_type": "code",
      "metadata": {
        "colab": {
          "base_uri": "https://localhost:8080/"
        },
        "id": "gIBaWAvM-MrT",
        "outputId": "2b65fccc-655f-400b-9181-b858f833758e"
      },
      "source": [
        "#Save the model on the drive to use it later\n",
        "\n",
        "import joblib \n",
        "\n",
        "rf_model = 'rf_model.sav'\n",
        "joblib.dump(rf_model, rf_model)"
      ],
      "execution_count": 26,
      "outputs": [
        {
          "output_type": "execute_result",
          "data": {
            "text/plain": [
              "['rf_model.sav']"
            ]
          },
          "metadata": {},
          "execution_count": 26
        }
      ]
    },
    {
      "cell_type": "markdown",
      "metadata": {
        "id": "45K61QJbcsdD"
      },
      "source": [
        "### **3) Suppor Vector Machine**"
      ]
    },
    {
      "cell_type": "markdown",
      "metadata": {
        "id": "XKVC5NW43hQi"
      },
      "source": [
        "**a) Hypertuning & Training**"
      ]
    },
    {
      "cell_type": "code",
      "metadata": {
        "id": "YKoaa0HNcv-V",
        "colab": {
          "base_uri": "https://localhost:8080/"
        },
        "outputId": "35e45d57-bb56-4c4e-89a0-d67fd43cfd7e"
      },
      "source": [
        "svm_param = { \n",
        "    'kernel': ['sigmoid', 'rbf', 'poly'],\n",
        "    'C': [1,10]\n",
        "}\n",
        "\n",
        "# find out the optimal parameters\n",
        "svm=GridSearchCV(svm.SVC(),svm_param,verbose=1,cv=5,n_jobs=-1, scoring='neg_mean_squared_error')\n",
        "\n",
        "# train the model\n",
        "svm_results=svm.fit(X_train,y_train)"
      ],
      "execution_count": 37,
      "outputs": [
        {
          "output_type": "stream",
          "name": "stdout",
          "text": [
            "Fitting 5 folds for each of 6 candidates, totalling 30 fits\n"
          ]
        },
        {
          "output_type": "stream",
          "name": "stderr",
          "text": [
            "[Parallel(n_jobs=-1)]: Using backend LokyBackend with 2 concurrent workers.\n",
            "[Parallel(n_jobs=-1)]: Done  30 out of  30 | elapsed: 14.2min finished\n"
          ]
        }
      ]
    },
    {
      "cell_type": "markdown",
      "metadata": {
        "id": "cHIBMRts4s4H"
      },
      "source": [
        "**b) Testing and evaluating SVM performance**"
      ]
    },
    {
      "cell_type": "code",
      "metadata": {
        "id": "4J9CcbJpe8X0"
      },
      "source": [
        "# test the model using metrics\n",
        "\n",
        "svm_predictions = svm.predict(X_test) \n",
        "mse_svm=mean_squared_error(y_test,svm_predictions)\n",
        "accuracy_svm=accuracy_score(y_test, svm_predictions)\n",
        "confusion_matrix_svm=confusion_matrix(y_test, svm_predictions)\n",
        "kappa_svm=cohen_kappa_score(y_test, svm_predictions)"
      ],
      "execution_count": 38,
      "outputs": []
    },
    {
      "cell_type": "code",
      "metadata": {
        "id": "gNco6KkvfQUG",
        "colab": {
          "base_uri": "https://localhost:8080/"
        },
        "outputId": "d0940b83-0676-4e9c-d936-11b216281ed1"
      },
      "source": [
        "#print out results\n",
        "\n",
        "print(\"\\nSVM model performances:\")\n",
        "print(\"Accuracy \" \"% s\" %  \"{:.2f}\".format(accuracy_svm*100) +\"%\")\n",
        "print(\"Mean Squared Error (MSE) \"  \"% s\" %  (mse_svm)) \n",
        "print(\"Kappa \" \"% s\" % \"{:.2f}\".format(kappa_svm*100)+\"%\")\n",
        "print(\"Confusion Matrix\")\n",
        "print(confusion_matrix_svm)"
      ],
      "execution_count": 39,
      "outputs": [
        {
          "output_type": "stream",
          "name": "stdout",
          "text": [
            "\n",
            "SVM model performances:\n",
            "Accuracy 96.10%\n",
            "Mean Squared Error (MSE) 0.675\n",
            "Kappa 95.66%\n",
            "Confusion Matrix\n",
            "[[206   0   0   0   0   2   1   0   2   0]\n",
            " [  0 223   1   0   0   1   0   0   0   0]\n",
            " [  0   0 176   3   1   1   2   3   0   2]\n",
            " [  0   0   2 190   0   2   0   2   1   2]\n",
            " [  0   0   0   0 167   0   1   0   0   2]\n",
            " [  0   1   0   4   0 165   3   0   2   0]\n",
            " [  1   2   0   0   2   1 186   0   1   0]\n",
            " [  0   1   3   0   2   0   0 193   0   4]\n",
            " [  1   0   2   6   2   3   1   0 197   2]\n",
            " [  0   0   0   0   1   2   0   0   0 219]]\n"
          ]
        }
      ]
    },
    {
      "cell_type": "markdown",
      "metadata": {
        "id": "647WZ5LzDo5V"
      },
      "source": [
        "**d) Save the trained model**"
      ]
    },
    {
      "cell_type": "code",
      "metadata": {
        "colab": {
          "base_uri": "https://localhost:8080/"
        },
        "id": "jYqGyp0WDsdm",
        "outputId": "586764ec-75bf-435a-a71b-b7c0f2f5a972"
      },
      "source": [
        "#Save the model on the drive to use it later\n",
        "\n",
        "import joblib \n",
        "\n",
        "svm_model = 'svm_model.sav'\n",
        "joblib.dump(svm_model, svm_model)"
      ],
      "execution_count": 48,
      "outputs": [
        {
          "output_type": "execute_result",
          "data": {
            "text/plain": [
              "['svm_model.sav']"
            ]
          },
          "metadata": {},
          "execution_count": 48
        }
      ]
    },
    {
      "cell_type": "markdown",
      "metadata": {
        "id": "Cfu0LwdL-W4W"
      },
      "source": [
        "#Compare models' performance"
      ]
    },
    {
      "cell_type": "code",
      "metadata": {
        "colab": {
          "base_uri": "https://localhost:8080/",
          "height": 287
        },
        "id": "13joj22QCZ41",
        "outputId": "6a12c5ad-37e4-415d-ac2c-20de989888e7"
      },
      "source": [
        "models = ('KNN','RF','SVM')\n",
        "y_pos = np.arange(len(models))\n",
        "mse = [mse_knn,mse_rf,mse_svm]\n",
        "accuracy=[accuracy_knn,accuracy_rf,accuracy_svm]\n",
        "kappa= [kappa_knn,kappa_rf,kappa_svm]\n",
        "\n",
        "\n",
        "fig = plt.figure()\n",
        "fig.subplots_adjust( right=1.7, top=.9)\n",
        "for i in range(1, 4):\n",
        "  if i==1:\n",
        "    ax = fig.add_subplot(1, 3, i)\n",
        "    ax.bar(y_pos, accuracy, align='center', alpha=0.8, color='b')\n",
        "    ax.set_xticks(np.arange(len(models)))\n",
        "    ax.set_xticklabels(('KNN','RF','SVM'), minor=False)\n",
        "    ax.set_label('Accuracy')\n",
        "    ax.set_title('Accuracy')\n",
        "  if i==2:\n",
        "    ax = fig.add_subplot(1, 3, i)\n",
        "    ax.bar(y_pos, mse, align='center', alpha=0.8, color='g')\n",
        "    ax.set_xticks(np.arange(len(models)))\n",
        "    ax.set_xticklabels(models, fontdict=None, minor=False)\n",
        "    ax.set_label('MSE')\n",
        "    ax.set_title('Mean Squared Error')\n",
        "  if i==3:\n",
        "    ax = fig.add_subplot(1, 3, i)\n",
        "    ax.bar(y_pos, kappa, align='center', alpha=0.8, color='orange')\n",
        "    ax.set_xticks(np.arange(len(models)))\n",
        "    ax.set_xticklabels(models, fontdict=None, minor=False)\n",
        "    ax.set_label('Kappa')\n",
        "    ax.set_title('Kappa')"
      ],
      "execution_count": 49,
      "outputs": [
        {
          "output_type": "display_data",
          "data": {
            "image/png": "[encoded data removed]",
            "text/plain": [
              "<Figure size 432x288 with 3 Axes>"
            ]
          },
          "metadata": {
            "needs_background": "light"
          }
        }
      ]
    }
  ]
}